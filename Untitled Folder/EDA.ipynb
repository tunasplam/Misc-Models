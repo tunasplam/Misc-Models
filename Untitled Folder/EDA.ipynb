{
 "cells": [
  {
   "cell_type": "code",
   "execution_count": 19,
   "id": "47afcc08",
   "metadata": {},
   "outputs": [],
   "source": [
    "import openml\n",
    "import pandas as pd\n",
    "import seaborn as sns\n",
    "import matplotlib.pyplot as plt\n",
    "\n",
    "plt.rcParams['axes.labelcolor'] = 'white'\n",
    "plt.rcParams['xtick.labelcolor'] = 'white'\n",
    "plt.rcParams['ytick.labelcolor'] = 'white'"
   ]
  },
  {
   "cell_type": "code",
   "execution_count": 2,
   "id": "855ab662",
   "metadata": {},
   "outputs": [],
   "source": [
    "# get the dataset first.\n",
    "datasets = openml.datasets.list_datasets(output_format='dataframe')"
   ]
  },
  {
   "cell_type": "code",
   "execution_count": 3,
   "id": "13013c93",
   "metadata": {},
   "outputs": [
    {
     "data": {
      "text/html": [
       "<div>\n",
       "<style scoped>\n",
       "    .dataframe tbody tr th:only-of-type {\n",
       "        vertical-align: middle;\n",
       "    }\n",
       "\n",
       "    .dataframe tbody tr th {\n",
       "        vertical-align: top;\n",
       "    }\n",
       "\n",
       "    .dataframe thead th {\n",
       "        text-align: right;\n",
       "    }\n",
       "</style>\n",
       "<table border=\"1\" class=\"dataframe\">\n",
       "  <thead>\n",
       "    <tr style=\"text-align: right;\">\n",
       "      <th></th>\n",
       "      <th>did</th>\n",
       "      <th>name</th>\n",
       "      <th>version</th>\n",
       "      <th>uploader</th>\n",
       "      <th>status</th>\n",
       "      <th>format</th>\n",
       "      <th>MajorityClassSize</th>\n",
       "      <th>MaxNominalAttDistinctValues</th>\n",
       "      <th>MinorityClassSize</th>\n",
       "      <th>NumberOfClasses</th>\n",
       "      <th>NumberOfFeatures</th>\n",
       "      <th>NumberOfInstances</th>\n",
       "      <th>NumberOfInstancesWithMissingValues</th>\n",
       "      <th>NumberOfMissingValues</th>\n",
       "      <th>NumberOfNumericFeatures</th>\n",
       "      <th>NumberOfSymbolicFeatures</th>\n",
       "    </tr>\n",
       "  </thead>\n",
       "  <tbody>\n",
       "    <tr>\n",
       "      <th>50</th>\n",
       "      <td>50</td>\n",
       "      <td>tic-tac-toe</td>\n",
       "      <td>1</td>\n",
       "      <td>1</td>\n",
       "      <td>active</td>\n",
       "      <td>ARFF</td>\n",
       "      <td>626.0</td>\n",
       "      <td>3.0</td>\n",
       "      <td>332.0</td>\n",
       "      <td>2.0</td>\n",
       "      <td>10.0</td>\n",
       "      <td>958.0</td>\n",
       "      <td>0.0</td>\n",
       "      <td>0.0</td>\n",
       "      <td>0.0</td>\n",
       "      <td>10.0</td>\n",
       "    </tr>\n",
       "  </tbody>\n",
       "</table>\n",
       "</div>"
      ],
      "text/plain": [
       "    did         name  version uploader  status format  MajorityClassSize  \\\n",
       "50   50  tic-tac-toe        1        1  active   ARFF              626.0   \n",
       "\n",
       "    MaxNominalAttDistinctValues  MinorityClassSize  NumberOfClasses  \\\n",
       "50                          3.0              332.0              2.0   \n",
       "\n",
       "    NumberOfFeatures  NumberOfInstances  NumberOfInstancesWithMissingValues  \\\n",
       "50              10.0              958.0                                 0.0   \n",
       "\n",
       "    NumberOfMissingValues  NumberOfNumericFeatures  NumberOfSymbolicFeatures  \n",
       "50                    0.0                      0.0                      10.0  "
      ]
     },
     "execution_count": 3,
     "metadata": {},
     "output_type": "execute_result"
    }
   ],
   "source": [
    "datasets[datasets['name'] == 'tic-tac-toe']"
   ]
  },
  {
   "cell_type": "code",
   "execution_count": 4,
   "id": "5912db02",
   "metadata": {},
   "outputs": [],
   "source": [
    "dataset = openml.datasets.get_dataset(50)"
   ]
  },
  {
   "cell_type": "code",
   "execution_count": 5,
   "id": "122586d8",
   "metadata": {},
   "outputs": [],
   "source": [
    "df = dataset.get_data(dataset_format='dataframe')[0]"
   ]
  },
  {
   "cell_type": "code",
   "execution_count": 6,
   "id": "dc4e2242",
   "metadata": {},
   "outputs": [
    {
     "data": {
      "text/html": [
       "<div>\n",
       "<style scoped>\n",
       "    .dataframe tbody tr th:only-of-type {\n",
       "        vertical-align: middle;\n",
       "    }\n",
       "\n",
       "    .dataframe tbody tr th {\n",
       "        vertical-align: top;\n",
       "    }\n",
       "\n",
       "    .dataframe thead th {\n",
       "        text-align: right;\n",
       "    }\n",
       "</style>\n",
       "<table border=\"1\" class=\"dataframe\">\n",
       "  <thead>\n",
       "    <tr style=\"text-align: right;\">\n",
       "      <th></th>\n",
       "      <th>top-left-square</th>\n",
       "      <th>top-middle-square</th>\n",
       "      <th>top-right-square</th>\n",
       "      <th>middle-left-square</th>\n",
       "      <th>middle-middle-square</th>\n",
       "      <th>middle-right-square</th>\n",
       "      <th>bottom-left-square</th>\n",
       "      <th>bottom-middle-square</th>\n",
       "      <th>bottom-right-square</th>\n",
       "      <th>Class</th>\n",
       "    </tr>\n",
       "  </thead>\n",
       "  <tbody>\n",
       "    <tr>\n",
       "      <th>0</th>\n",
       "      <td>x</td>\n",
       "      <td>x</td>\n",
       "      <td>x</td>\n",
       "      <td>x</td>\n",
       "      <td>o</td>\n",
       "      <td>o</td>\n",
       "      <td>x</td>\n",
       "      <td>o</td>\n",
       "      <td>o</td>\n",
       "      <td>positive</td>\n",
       "    </tr>\n",
       "    <tr>\n",
       "      <th>1</th>\n",
       "      <td>x</td>\n",
       "      <td>x</td>\n",
       "      <td>x</td>\n",
       "      <td>x</td>\n",
       "      <td>o</td>\n",
       "      <td>o</td>\n",
       "      <td>o</td>\n",
       "      <td>x</td>\n",
       "      <td>o</td>\n",
       "      <td>positive</td>\n",
       "    </tr>\n",
       "    <tr>\n",
       "      <th>2</th>\n",
       "      <td>x</td>\n",
       "      <td>x</td>\n",
       "      <td>x</td>\n",
       "      <td>x</td>\n",
       "      <td>o</td>\n",
       "      <td>o</td>\n",
       "      <td>o</td>\n",
       "      <td>o</td>\n",
       "      <td>x</td>\n",
       "      <td>positive</td>\n",
       "    </tr>\n",
       "    <tr>\n",
       "      <th>3</th>\n",
       "      <td>x</td>\n",
       "      <td>x</td>\n",
       "      <td>x</td>\n",
       "      <td>x</td>\n",
       "      <td>o</td>\n",
       "      <td>o</td>\n",
       "      <td>o</td>\n",
       "      <td>b</td>\n",
       "      <td>b</td>\n",
       "      <td>positive</td>\n",
       "    </tr>\n",
       "    <tr>\n",
       "      <th>4</th>\n",
       "      <td>x</td>\n",
       "      <td>x</td>\n",
       "      <td>x</td>\n",
       "      <td>x</td>\n",
       "      <td>o</td>\n",
       "      <td>o</td>\n",
       "      <td>b</td>\n",
       "      <td>o</td>\n",
       "      <td>b</td>\n",
       "      <td>positive</td>\n",
       "    </tr>\n",
       "  </tbody>\n",
       "</table>\n",
       "</div>"
      ],
      "text/plain": [
       "  top-left-square top-middle-square top-right-square middle-left-square  \\\n",
       "0               x                 x                x                  x   \n",
       "1               x                 x                x                  x   \n",
       "2               x                 x                x                  x   \n",
       "3               x                 x                x                  x   \n",
       "4               x                 x                x                  x   \n",
       "\n",
       "  middle-middle-square middle-right-square bottom-left-square  \\\n",
       "0                    o                   o                  x   \n",
       "1                    o                   o                  o   \n",
       "2                    o                   o                  o   \n",
       "3                    o                   o                  o   \n",
       "4                    o                   o                  b   \n",
       "\n",
       "  bottom-middle-square bottom-right-square     Class  \n",
       "0                    o                   o  positive  \n",
       "1                    x                   o  positive  \n",
       "2                    o                   x  positive  \n",
       "3                    b                   b  positive  \n",
       "4                    o                   b  positive  "
      ]
     },
     "execution_count": 6,
     "metadata": {},
     "output_type": "execute_result"
    }
   ],
   "source": [
    "df.head()"
   ]
  },
  {
   "cell_type": "code",
   "execution_count": 7,
   "id": "bdc8d2f6",
   "metadata": {},
   "outputs": [
    {
     "data": {
      "text/plain": [
       "<AxesSubplot:xlabel='count', ylabel='top-left-square'>"
      ]
     },
     "execution_count": 7,
     "metadata": {},
     "output_type": "execute_result"
    },
    {
     "data": {
      "image/png": "[encoded data removed]",
      "text/plain": [
       "<Figure size 432x288 with 1 Axes>"
      ]
     },
     "metadata": {
      "needs_background": "dark"
     },
     "output_type": "display_data"
    }
   ],
   "source": [
    "sns.countplot(y=df['top-left-square'], hue=df['Class'])"
   ]
  },
  {
   "cell_type": "markdown",
   "id": "60d2ef8b",
   "metadata": {},
   "source": [
    "So the value counts are not exactly balanced. They all have more x's (presumably because x is always assumed to have gone first).<br>\n",
    "An idea is to look at the winning ratio of x for each situation.<br>\n",
    "i.e. probability that x wins when top-left-square is b."
   ]
  },
  {
   "cell_type": "code",
   "execution_count": 8,
   "id": "071c861f",
   "metadata": {},
   "outputs": [],
   "source": [
    "features = df.drop(columns=['Class']).columns"
   ]
  },
  {
   "cell_type": "code",
   "execution_count": 9,
   "id": "0a18938a",
   "metadata": {},
   "outputs": [
    {
     "name": "stdout",
     "output_type": "stream",
     "text": [
      "top-left-square\n",
      "x    418\n",
      "o    335\n",
      "b    205\n",
      "dtype: int64\n",
      "top-middle-square\n",
      "x    378\n",
      "o    330\n",
      "b    250\n",
      "dtype: int64\n",
      "top-right-square\n",
      "x    418\n",
      "o    335\n",
      "b    205\n",
      "dtype: int64\n",
      "middle-left-square\n",
      "x    378\n",
      "o    330\n",
      "b    250\n",
      "dtype: int64\n",
      "middle-middle-square\n",
      "x    458\n",
      "o    340\n",
      "b    160\n",
      "dtype: int64\n",
      "middle-right-square\n",
      "x    378\n",
      "o    330\n",
      "b    250\n",
      "dtype: int64\n",
      "bottom-left-square\n",
      "x    418\n",
      "o    335\n",
      "b    205\n",
      "dtype: int64\n",
      "bottom-middle-square\n",
      "x    378\n",
      "o    330\n",
      "b    250\n",
      "dtype: int64\n",
      "bottom-right-square\n",
      "x    418\n",
      "o    335\n",
      "b    205\n",
      "dtype: int64\n"
     ]
    }
   ],
   "source": [
    "for col in features:\n",
    "    print(df.value_counts(col))"
   ]
  },
  {
   "cell_type": "code",
   "execution_count": 10,
   "id": "40c123ab",
   "metadata": {},
   "outputs": [
    {
     "data": {
      "image/png": "[encoded data removed]",
      "text/plain": [
       "<Figure size 720x720 with 9 Axes>"
      ]
     },
     "metadata": {
      "needs_background": "dark"
     },
     "output_type": "display_data"
    }
   ],
   "source": [
    "fig, axes = plt.subplots(3, 3, figsize=(10,10))\n",
    "ax = axes.ravel()\n",
    "\n",
    "for feature, i in zip(features, range(len(features))):\n",
    "    sns.countplot(y=df[feature], hue=df['Class'], ax=ax[i])"
   ]
  },
  {
   "cell_type": "code",
   "execution_count": 11,
   "id": "b681f574",
   "metadata": {},
   "outputs": [
    {
     "data": {
      "text/plain": [
       "2.3983739837398375"
      ]
     },
     "execution_count": 11,
     "metadata": {},
     "output_type": "execute_result"
    }
   ],
   "source": [
    "# this is the winning ratio for placing an x in the top-right-square\n",
    "len(df[(df['top-right-square'] == 'x') & (df['Class'] == 'positive')]) / \\\n",
    "len(df[(df['top-right-square'] == 'x') & (df['Class'] == 'negative')])"
   ]
  },
  {
   "cell_type": "code",
   "execution_count": 12,
   "id": "5f127ceb",
   "metadata": {},
   "outputs": [],
   "source": [
    "win_ratios = dict()\n",
    "for feature in features:\n",
    "    for token in ['b', 'o', 'x']:\n",
    "        col_name = \"WR_{}_{}\".format(feature, token)\n",
    "        win_ratios[col_name] = len(df[(df[feature] == token) & (df['Class'] == 'positive')]) / \\\n",
    "        len(df[(df[feature] == token) & (df['Class'] == 'negative')])"
   ]
  },
  {
   "cell_type": "code",
   "execution_count": 13,
   "id": "054e486a",
   "metadata": {},
   "outputs": [
    {
     "data": {
      "text/plain": [
       "{'WR_top-left-square_b': 2.253968253968254,\n",
       " 'WR_top-left-square_o': 1.2945205479452055,\n",
       " 'WR_top-left-square_x': 2.3983739837398375,\n",
       " 'WR_top-middle-square_b': 2.2051282051282053,\n",
       " 'WR_top-middle-square_o': 2.267326732673267,\n",
       " 'WR_top-middle-square_x': 1.4705882352941178,\n",
       " 'WR_top-right-square_b': 2.253968253968254,\n",
       " 'WR_top-right-square_o': 1.2945205479452055,\n",
       " 'WR_top-right-square_x': 2.3983739837398375,\n",
       " 'WR_middle-left-square_b': 2.2051282051282053,\n",
       " 'WR_middle-left-square_o': 2.267326732673267,\n",
       " 'WR_middle-left-square_x': 1.4705882352941178,\n",
       " 'WR_middle-middle-square_b': 2.3333333333333335,\n",
       " 'WR_middle-middle-square_o': 0.7708333333333334,\n",
       " 'WR_middle-middle-square_x': 3.9782608695652173,\n",
       " 'WR_middle-right-square_b': 2.2051282051282053,\n",
       " 'WR_middle-right-square_o': 2.267326732673267,\n",
       " 'WR_middle-right-square_x': 1.4705882352941178,\n",
       " 'WR_bottom-left-square_b': 2.253968253968254,\n",
       " 'WR_bottom-left-square_o': 1.2945205479452055,\n",
       " 'WR_bottom-left-square_x': 2.3983739837398375,\n",
       " 'WR_bottom-middle-square_b': 2.2051282051282053,\n",
       " 'WR_bottom-middle-square_o': 2.267326732673267,\n",
       " 'WR_bottom-middle-square_x': 1.4705882352941178,\n",
       " 'WR_bottom-right-square_b': 2.253968253968254,\n",
       " 'WR_bottom-right-square_o': 1.2945205479452055,\n",
       " 'WR_bottom-right-square_x': 2.3983739837398375}"
      ]
     },
     "execution_count": 13,
     "metadata": {},
     "output_type": "execute_result"
    }
   ],
   "source": [
    "win_ratios"
   ]
  },
  {
   "cell_type": "markdown",
   "id": "09a7d421",
   "metadata": {},
   "source": [
    "We do know from experience that there are \"power setups\" which guarantee victory. Mabe we can encode all of those. But maybe the tree will pick up on those? Mmm no because this only looks at the end result."
   ]
  },
  {
   "cell_type": "code",
   "execution_count": 16,
   "id": "d59bc953",
   "metadata": {},
   "outputs": [
    {
     "data": {
      "text/plain": [
       "positive    36\n",
       "negative    11\n",
       "Name: Class, dtype: int64"
      ]
     },
     "execution_count": 16,
     "metadata": {},
     "output_type": "execute_result"
    }
   ],
   "source": [
    "df[(df['middle-middle-square'] == 'x') & \n",
    "   (df['bottom-left-square'] == 'x') &\n",
    "   (df['bottom-middle-square'] == 'x')]['Class'].value_counts()"
   ]
  },
  {
   "cell_type": "code",
   "execution_count": null,
   "id": "a375fb44",
   "metadata": {},
   "outputs": [],
   "source": []
  }
 ],
 "metadata": {
  "kernelspec": {
   "display_name": "Python 3 (ipykernel)",
   "language": "python",
   "name": "python3"
  },
  "language_info": {
   "codemirror_mode": {
    "name": "ipython",
    "version": 3
   },
   "file_extension": ".py",
   "mimetype": "text/x-python",
   "name": "python",
   "nbconvert_exporter": "python",
   "pygments_lexer": "ipython3",
   "version": "3.10.2"
  }
 },
 "nbformat": 4,
 "nbformat_minor": 5
}
