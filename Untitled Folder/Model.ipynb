{
 "cells": [
  {
   "cell_type": "code",
   "execution_count": 1,
   "id": "120030a9",
   "metadata": {},
   "outputs": [],
   "source": [
    "import openml\n",
    "import pandas as pd\n",
    "import seaborn as sns\n",
    "import matplotlib.pyplot as plt\n",
    "\n",
    "from sklearn.ensemble import GradientBoostingClassifier\n",
    "from sklearn.pipeline import Pipeline\n",
    "from sklearn.model_selection import train_test_split\n",
    "from sklearn.model_selection import GridSearchCV\n",
    "\n",
    "plt.rcParams['axes.labelcolor'] = 'white'\n",
    "plt.rcParams['xtick.labelcolor'] = 'white'\n",
    "plt.rcParams['ytick.labelcolor'] = 'white'"
   ]
  },
  {
   "cell_type": "code",
   "execution_count": 2,
   "id": "55e881de",
   "metadata": {},
   "outputs": [],
   "source": [
    "# get the dataset first.\n",
    "datasets = openml.datasets.list_datasets(output_format='dataframe')\n",
    "datasets[datasets['name'] == 'tic-tac-toe']\n",
    "dataset = openml.datasets.get_dataset(50)\n",
    "df = dataset.get_data(dataset_format='dataframe')[0]"
   ]
  },
  {
   "cell_type": "code",
   "execution_count": 3,
   "id": "341e6cde",
   "metadata": {},
   "outputs": [],
   "source": [
    "xtrain, xtest, ytrain, ytest = train_test_split(df.drop(columns=['Class']), \n",
    "                                               df['Class'],\n",
    "                                               test_size=.33,\n",
    "                                               random_state=24)"
   ]
  },
  {
   "cell_type": "code",
   "execution_count": null,
   "id": "086aa5f7",
   "metadata": {},
   "outputs": [],
   "source": [
    "tree = GradientBoostingClassifier()\n",
    "step"
   ]
  }
 ],
 "metadata": {
  "kernelspec": {
   "display_name": "Python 3 (ipykernel)",
   "language": "python",
   "name": "python3"
  },
  "language_info": {
   "codemirror_mode": {
    "name": "ipython",
    "version": 3
   },
   "file_extension": ".py",
   "mimetype": "text/x-python",
   "name": "python",
   "nbconvert_exporter": "python",
   "pygments_lexer": "ipython3",
   "version": "3.10.2"
  }
 },
 "nbformat": 4,
 "nbformat_minor": 5
}
